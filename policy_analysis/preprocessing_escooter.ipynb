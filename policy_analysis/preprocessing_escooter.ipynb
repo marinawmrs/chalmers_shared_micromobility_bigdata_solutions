{
 "cells": [
  {
   "cell_type": "code",
   "execution_count": 2,
   "id": "674b981f",
   "metadata": {},
   "outputs": [],
   "source": [
    "import pandas as pd"
   ]
  },
  {
   "cell_type": "markdown",
   "id": "fb4e358f",
   "metadata": {},
   "source": [
    "#### Load Data"
   ]
  },
  {
   "cell_type": "code",
   "execution_count": 44,
   "id": "64b189b8",
   "metadata": {},
   "outputs": [],
   "source": [
    "path = \"/Users/marinawiemers/Downloads/gbg_escooter_2022_voi.csv\"\n",
    "# df = pd.read_csv(path)\n",
    "df = pd.read_csv(path, delimiter=';')"
   ]
  },
  {
   "cell_type": "markdown",
   "id": "9c2f499c",
   "metadata": {},
   "source": [
    "#### Uniformise Data for Scripts"
   ]
  },
  {
   "cell_type": "code",
   "execution_count": 46,
   "id": "c7e6d629",
   "metadata": {},
   "outputs": [],
   "source": [
    "# Some data sources use varying names, scripts are based on this\n",
    "df = df.rename(columns={'distance':'escooter_distance', 'transit_Time':'transit_time', 'transit_total_duration':'transit_totaltime', 'transit_walkTime':'transit_walkdistance', 'car_duration':'car_time', 'carDistance':'car_distance', 'walk_duration':'walk_time', 'walkDistance':'walk_distance', 'walkTime_y':'walk_time', 'walkDistance_y':'walk_distance'})\n",
    "\n",
    "cols = ['id', 'o_time', 'd_time', 'o_lat', 'o_lng', 'd_lat', 'd_lng',\n",
    "       'escooter_distance', 'escooter_time', 'transit_time',\n",
    "       'transit_totaltime', 'transit_walkdistance', 'transit_transitdistance',\n",
    "       'car_time', 'car_distance', 'walk_time', 'walk_distance', 'type',\n",
    "       'ratio_', 'U_walk', 'U_bike', 'U_PT', 'U_car', 'U_taxi', 's', 'P_walk',\n",
    "       'P_bike', 'P_PT', 'P_car', 'P_taxi', 'GHG']\n",
    "\n",
    "cols_final = list(set(cols) & set(df.columns))\n",
    "df = df[cols_final]"
   ]
  },
  {
   "cell_type": "code",
   "execution_count": 47,
   "id": "6dac3ad9",
   "metadata": {},
   "outputs": [],
   "source": [
    "df['o_time'] = pd.to_datetime(df['o_time'], errors='coerce')\n",
    "df['d_time'] = pd.to_datetime(df['d_time'], errors='coerce')\n",
    "df = df.sort_values(by=[\"o_time\"]).reset_index(drop=True)\n",
    "df['day'] = df['o_time'].dt.day_name()\n",
    "df['month'] = df['o_time'].dt.month_name()\n",
    "df['Month'] = df['o_time'].dt.month\n",
    "df['year'] = df['o_time'].dt.year\n",
    "df['Date'] = df['o_time'].dt.day\n",
    "df['hour'] = df['o_time'].dt.hour"
   ]
  },
  {
   "cell_type": "code",
   "execution_count": 48,
   "id": "0f31b982",
   "metadata": {},
   "outputs": [],
   "source": [
    "# Initial data source used \"vio\", scripts are based on this\n",
    "df['type'] = df['type'].replace('voi', 'vio') if 'type' in df.columns else 'vio'"
   ]
  },
  {
   "cell_type": "code",
   "execution_count": 49,
   "id": "a7d1093c",
   "metadata": {},
   "outputs": [],
   "source": [
    "df['reduced_time'] = ((df['P_walk'] * df['walk_time']) + (df['P_bike'] * df['escooter_time']) + (df['P_PT'] * df['transit_totaltime']) + (df['P_car'] * df['car_time']) + (df['P_taxi'] * df['car_time'])) - df['escooter_time']\n",
    "df['transit_walktime'] = df['transit_totaltime'] - df['transit_time']"
   ]
  },
  {
   "cell_type": "markdown",
   "id": "bc8ed524",
   "metadata": {},
   "source": [
    "#### Filter for specific time- and area range\n",
    "\n",
    "<mark> Adjust timeframe and area (coordinates) accordingly</mark>"
   ]
  },
  {
   "cell_type": "code",
   "execution_count": 57,
   "id": "1f7a757e",
   "metadata": {},
   "outputs": [
    {
     "name": "stdout",
     "output_type": "stream",
     "text": [
      "#Datapoints - total: 101751\n",
      "#Datapoints -  area filter: 98592\n"
     ]
    }
   ],
   "source": [
    "# Filter for timeframe\n",
    "df_range = df[(df['year']==2022) & (((df['Month']==8)) | ((df['Month']==9)))]\n",
    "df_range=df_range.reset_index(drop=True)\n",
    "print('#Datapoints - total: ' + str(df_range.shape[0]))\n",
    "\n",
    "# Filter for area\n",
    "# e.g. from prev datasets; \n",
    "# STH - 59.39, 59.28, 18.18, 17.94\n",
    "# GBG - 57.74, 57.67, 12.02, 11.90\n",
    "north, south, east, west = 57.74, 57.67, 12.02, 11.90\n",
    "mask_lng = (df_range['o_lng'] > east) | (df_range['d_lng'] > east) | (df_range['o_lng'] < west) | (df_range['d_lng'] < west)\n",
    "mask_lat = (df_range['o_lat'] > north) | (df_range['d_lat'] > north) | (df_range['o_lat'] < south) | (df_range['d_lat'] < south)\n",
    "mask = mask_lng | mask_lat\n",
    "df_city = df_range[~mask].reset_index(drop=True)\n",
    "print('#Datapoints -  area filter: ' + str(df_city.shape[0]))"
   ]
  },
  {
   "cell_type": "markdown",
   "id": "0272540c",
   "metadata": {},
   "source": [
    "#### Filter for outliers based on E-Scooter specs\n",
    "\n",
    "* Max distance based on battery capacity\n",
    "* Filter out round trips\n",
    "* Speed specifications"
   ]
  },
  {
   "cell_type": "code",
   "execution_count": 58,
   "id": "84bd4009",
   "metadata": {},
   "outputs": [
    {
     "name": "stdout",
     "output_type": "stream",
     "text": [
      "#Datapoints - distance filter: 98592\n",
      "#Datapoints - speed & time filter: 96477\n"
     ]
    }
   ],
   "source": [
    "# Filter for distance\n",
    "df_city = df_city[df_city['escooter_distance'] < 20000]\n",
    "df_city = df_city[df_city['escooter_distance'] > 50] \n",
    "print('#Datapoints - distance filter: ' + str(df_city.shape[0]))\n",
    "      \n",
    "# Filter for trip duration and speed\n",
    "df_city = df_city[(df_city['escooter_time'] > 30) & (df_city['escooter_time'] < 3600)]\n",
    "df_city['speed']= df_city['escooter_distance']/df_city['escooter_time']\n",
    "df_city = df_city[(df_city['speed'] < 10) & (df_city['speed'] > (2/3.6))]\n",
    "print('#Datapoints - speed & time filter: ' + str(df_city.shape[0]))"
   ]
  },
  {
   "cell_type": "markdown",
   "id": "585dac7a",
   "metadata": {},
   "source": [
    "#### Save to file"
   ]
  },
  {
   "cell_type": "code",
   "execution_count": null,
   "id": "e89319d6",
   "metadata": {},
   "outputs": [],
   "source": [
    "df_city.to_csv('city_escooter_year_months_provider.csv', index=False)"
   ]
  }
 ],
 "metadata": {
  "kernelspec": {
   "display_name": "Python 3 (ipykernel)",
   "language": "python",
   "name": "python3"
  },
  "language_info": {
   "codemirror_mode": {
    "name": "ipython",
    "version": 3
   },
   "file_extension": ".py",
   "mimetype": "text/x-python",
   "name": "python",
   "nbconvert_exporter": "python",
   "pygments_lexer": "ipython3",
   "version": "3.11.5"
  }
 },
 "nbformat": 4,
 "nbformat_minor": 5
}
