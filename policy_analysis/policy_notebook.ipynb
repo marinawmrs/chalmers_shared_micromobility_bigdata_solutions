{
 "cells": [
  {
   "cell_type": "markdown",
   "id": "764e2d59-5240-4f1c-b2ba-b168a264da9a",
   "metadata": {},
   "source": [
    "# Policy Analysis Notebook"
   ]
  },
  {
   "cell_type": "markdown",
   "id": "9ec0a072-1aad-40e5-bb5f-fb26fa35c8a8",
   "metadata": {},
   "source": [
    "The purpose of this notebook is to facilitate the generation of shared micro-mobility policy analysis.\n",
    "It serves as the central hub from which parameters are declared and subsequent functions for data processing, analysis, and visualisation are run from, while keeping the code and \"back-end\" processes hidden and concise."
   ]
  },
  {
   "cell_type": "markdown",
   "id": "e7729b9d-d642-4983-a688-4e4e521a94c2",
   "metadata": {},
   "source": [
    "### Imports"
   ]
  },
  {
   "cell_type": "code",
   "execution_count": null,
   "id": "5b669e12-2931-4b04-8015-8913ec76c0aa",
   "metadata": {},
   "outputs": [],
   "source": [
    "import datetime as dt\n",
    "import scripts.style\n",
    "from scripts.api_smhi_weather import *\n",
    "from scripts.data_processing import *\n",
    "from scripts.data_visualisations import *"
   ]
  },
  {
   "cell_type": "markdown",
   "id": "08581210-8aee-4927-a92d-f4a056d3de25",
   "metadata": {},
   "source": [
    "## Policy Parameters\n",
    "\n",
    "**Path**: path to where the trip data is located, ideally placed in /data, and assumed to be a *CSV file*\n",
    "\n",
    "**City Name**: the place where the policy was implemented\n",
    "\n",
    "**Before Start / End date**: The timeframe of the selected period before the policy introduction (earliest and latest)\n",
    "\n",
    "**After Start / End date**: The timeframe of the selected period after the policy introduction (earliest and latest)\n",
    "\n",
    "**City Coordinates**: The area to which to restrict the policy analysis to, in the following order: North, South, East, West.\n",
    "Used for data cleaning (i.e. set to broad perimeter if data is already cleaned of spatial outliers), e.g. from previous datasets:\n",
    "* STH - 59.39, 59.28, 18.18, 17.94;\n",
    "* GBG - 57.74, 57.67, 12.02, 11.90\n",
    "\n",
    "##### <mark>Update the parameters below</mark>"
   ]
  },
  {
   "cell_type": "code",
   "execution_count": null,
   "id": "133112aa-06b1-4ddf-8984-759219601e3b",
   "metadata": {},
   "outputs": [],
   "source": [
    "data_path = 'data/data_raw.csv'\n",
    "city_name = 'Stockholm'\n",
    "\n",
    "before_start_date = dt.date(2022, 8, 5)\n",
    "before_end_date = dt.date(2022, 8, 27)\n",
    "\n",
    "after_start_date = dt.date(2022, 9, 15)\n",
    "after_end_date = dt.date(2022, 9, 30)\n",
    "\n",
    "city_coordinates = (59.39, 59.28, 18.18, 17.94)"
   ]
  },
  {
   "cell_type": "markdown",
   "id": "1d0fc328-c241-4e46-8a33-a687ba2e9d94",
   "metadata": {},
   "source": [
    "## Preprocessing\n",
    "\n",
    "The data is read and parsed according to the methods in `scripts/data_processing`. A brief visualisation of the distribution over days, weekdays and operators follows as a sanity check."
   ]
  },
  {
   "cell_type": "code",
   "execution_count": null,
   "id": "c2e7dfd0-ac6d-4bd8-a14b-44d9ae6f2e41",
   "metadata": {},
   "outputs": [],
   "source": [
    "df = pd.read_csv(data_path)\n",
    "df = parse_data(df)\n",
    "df = clean_data(df, city_coordinates)"
   ]
  },
  {
   "cell_type": "code",
   "execution_count": null,
   "id": "c5bdb802-808d-4eff-a61e-fff4296355f5",
   "metadata": {},
   "outputs": [],
   "source": [
    "vis_dataset_overview(df, before_start_date, after_end_date)"
   ]
  },
  {
   "cell_type": "code",
   "execution_count": null,
   "id": "9746694d-cefe-4ec4-831c-ef3b9175615f",
   "metadata": {},
   "outputs": [],
   "source": [
    "# counts number of hours per day where no data was recorded, visualisation follows later\n",
    "df_missing = missing_data_hours(df, before_start_date, before_end_date, after_start_date, after_end_date)"
   ]
  },
  {
   "cell_type": "markdown",
   "id": "796885f9-4710-44fb-b18e-1455bd2fa976",
   "metadata": {},
   "source": [
    "### Weather Parameters\n",
    "\n",
    "In order to filter out any potential effects of the weather on usage behaviour, such as intense rain-/snowfall or very low temperatures, weather data from [SMHI](https://www.smhi.se/data/meteorologi/ladda-ner-meteorologiska-observationer/#param=airTemperatureMinAndMaxOnceEveryDay,stations=active) is fetched.\n",
    "\n",
    "Currently, the parameters are minimum and maximum temperature, as well as daily precipitation in mm. More information can be found on SMHI's website. The cells below aid in selecting a weather station that records all three parameters, and is within a radius of 30km of the dataset's geographic midpoint.e"
   ]
  },
  {
   "cell_type": "code",
   "execution_count": null,
   "id": "9fd0bca0-da1f-437c-af1e-9691fc133997",
   "metadata": {},
   "outputs": [],
   "source": [
    "# Min temperature, max temperature, and precipitation in mm (daily sum)\n",
    "params = [19, 20, 5]\n",
    "data_mid_lat = df.o_lat.mean()\n",
    "data_mid_lon = df.o_lng.mean()\n",
    "\n",
    "weather_stations = get_available_stations(params, data_mid_lat, data_mid_lon)\n",
    "map_stations(weather_stations, data_mid_lat, data_mid_lon)"
   ]
  },
  {
   "cell_type": "markdown",
   "id": "cbd3c68c-e79f-4006-8228-c2b3e79a0db9",
   "metadata": {},
   "source": [
    "##### <mark>Select a weather station from the plot above and declare its ID (hover to retrieve) in the cell below:</mark>"
   ]
  },
  {
   "cell_type": "code",
   "execution_count": null,
   "id": "029e8a04-ca41-45e7-9b58-d7a21dbc9b9d",
   "metadata": {},
   "outputs": [],
   "source": [
    "station_key = 98230 #change ID to desired station\n",
    "df_weather = fetch_weather_data(station_key, params, before_start_date, after_end_date)"
   ]
  },
  {
   "cell_type": "code",
   "execution_count": null,
   "id": "3f356ac3-e9c8-4386-89e0-3839661d34db",
   "metadata": {},
   "outputs": [],
   "source": [
    "plot_weather(df_weather, df_missing, city_name)"
   ]
  },
  {
   "cell_type": "markdown",
   "id": "df8c0287-8cef-4732-a9d0-decc719f9ddd",
   "metadata": {},
   "source": [
    "### Data Selection\n",
    "\n",
    "The above plot shows the weather conditions during the timeframe as well as number of hours during which no data/trips have been recorded (e.g. due to system outage), such that such outlier days can be filtered out. Additionally, the dataset is split into before and after.\n",
    "\n",
    "##### <mark>Select in the cell below which days should not be included in the dataset, based on weather conditions and missing data throughout the day:</mark>"
   ]
  },
  {
   "cell_type": "code",
   "execution_count": null,
   "id": "3a310308-681e-4318-9533-820bcc0fc289",
   "metadata": {},
   "outputs": [],
   "source": [
    "# dataset is split into before and after\n",
    "df_before = df[(df.isodate >= pd.to_datetime(before_start_date)) & (df.isodate <= pd.to_datetime(before_end_date))]\n",
    "df_after = df[(df.isodate >= pd.to_datetime(after_start_date)) & (df.isodate <= pd.to_datetime(after_end_date))]"
   ]
  },
  {
   "cell_type": "code",
   "execution_count": null,
   "id": "34f02693-6a9b-45a6-867f-650f96b4c2ca",
   "metadata": {},
   "outputs": [],
   "source": [
    "# update days which should be filtered out\n",
    "df_before = df_before[~df_before.Date.isin([5, 12, 14, 20, 25, 28])]\n",
    "df_after = df_after[~df_after.Date.isin([16, 17, 18, 19, 20, 21, 22, 26, 30])]"
   ]
  },
  {
   "cell_type": "markdown",
   "id": "5a33dbde-1fbc-4a31-bf97-3b6cd89a88cd",
   "metadata": {},
   "source": [
    "### Data Preparation\n",
    "\n",
    "Given the cleaned and selected data, further calculations are performed on the data. For each trip, the likelihood of each alternative mode of transport is computed, the data is partitioned into types of weekdays, and an aggregated grid is created."
   ]
  },
  {
   "cell_type": "code",
   "execution_count": null,
   "id": "b68d07f5-264d-4c32-a143-3dac188e3c7d",
   "metadata": {},
   "outputs": [],
   "source": [
    "for frame in [df_before, df_after]:\n",
    "    frame = calculate_mode_likelihood_ghg(frame)\n",
    "    frame = frame.dropna(how='any')"
   ]
  },
  {
   "cell_type": "code",
   "execution_count": null,
   "id": "a342b33b-8584-45c9-93f1-a0a2331ba247",
   "metadata": {},
   "outputs": [],
   "source": [
    "weekends = ['Friday','Saturday', 'Sunday']\n",
    "weekdays_before = df_before[~df_before['day'].isin(weekends)]\n",
    "weekdays_after = df_after[~df_after['day'].isin(weekends)]\n",
    "\n",
    "fri_before = df_before[df_before['day'].isin(['Friday'])]\n",
    "fri_after = df_after[df_after['day'].isin(['Friday'])]\n",
    "\n",
    "weekends = ['Saturday', 'Sunday']\n",
    "weekends_before = df_before[df_before['day'].isin(weekends)]\n",
    "weekends_after = df_after[df_after['day'].isin(weekends)]"
   ]
  },
  {
   "cell_type": "markdown",
   "id": "1498885f-cfcc-47ff-833e-68fa575fa74f",
   "metadata": {},
   "source": [
    "<mark> Select the grid shape ('square', 'hexagon', or 'shapefile').</mark><br>\n",
    "**Note:** If using shapefile, make sure the necessary files are in the ```/data``` directory, or you update the path accordingly in the code.\n",
    "\n",
    "\n",
    "<mark> Select the grid resolution, if using 'square' or 'hexagon'.</mark> Cell statistics/resolutions for hexagons can be found *[here](https://h3geo.org/docs/core-library/restable/#edge-lengths)*."
   ]
  },
  {
   "cell_type": "code",
   "execution_count": null,
   "id": "95e790cb-cba3-41e9-9572-5123591d69b4",
   "metadata": {},
   "outputs": [],
   "source": [
    "grid_shape = 'square' # 'shape', 'hexagon', 'shapefile'\n",
    "grid_size = 0.003 # for SQUARE: edge length in km [e.g.: 0.002], for HEXAGON: resolution (int) [e.g.: 9]\n",
    "min_data = 30 # minimum data points per day for a zone to be considered"
   ]
  },
  {
   "cell_type": "code",
   "execution_count": null,
   "id": "b9885c31-2341-44b1-9fbe-e21b2949bb14",
   "metadata": {},
   "outputs": [],
   "source": [
    "gdf_before = create_zones(df_before, grid_shape, grid_size, city_coordinates, min_data, 'o') # origin-based\n",
    "gdf_before_d =  create_zones(df_before, grid_shape, grid_size, city_coordinates, min_data, 'd') # destination-based\n",
    "\n",
    "gdf_after =  create_zones(df_after, grid_shape, grid_size, city_coordinates, min_data, 'o')\n",
    "gdf_after_d = create_zones(df_after, grid_shape, grid_size, city_coordinates, min_data, 'd')"
   ]
  },
  {
   "cell_type": "markdown",
   "id": "b44e4290-9441-4da6-8ef0-ea6b24a57ee3",
   "metadata": {},
   "source": [
    "## Policy Analysis"
   ]
  },
  {
   "cell_type": "markdown",
   "id": "7037be4b-3c0c-4b47-9d74-74fae40ce6ca",
   "metadata": {},
   "source": [
    "### Demand"
   ]
  },
  {
   "cell_type": "code",
   "execution_count": null,
   "id": "f667394a-681d-4e72-92fb-8e93bc62fc04",
   "metadata": {},
   "outputs": [],
   "source": [
    "### Overall Statistics\n",
    "total_size = df_before.id.size + df_after.id.size\n",
    "print('Total number of trips - before: ' + str(df_before.id.size) + ' (' + str(round((df_before.id.size/total_size)*100,2)) + '%)')\n",
    "print('Total number of trips - after: ' + str(df_after.id.size) + ' (' + str(round((df_after.id.size/total_size)*100,2)) + '%)\\n')\n",
    "\n",
    "# aggregate_and_describe(df_before, df_after, column_to_group_by, column_to_aggregate_on, aggregation function, table title\n",
    "tripsperday = aggregate_and_describe(df_before, df_after, 'isodate', 'id', lambda x: x.count(), \"Trips per Day\")\n",
    "tripsperhour = aggregate_and_describe(df_before, df_after, ['isodate', 'hour'], 'id', lambda x: x.count(), \"Trips per Hour\")\n",
    "display_html(tripsperday._repr_html_() + tripsperhour._repr_html_(), raw=True)\n",
    "\n",
    "### Histograms/PDFs\n",
    "# change first parameter (density: bool) to toggle between histogram and PDF\n",
    "plot_demand_pdf_throughout_weekdays(False, weekdays_before, weekends_before, fri_before, weekdays_after, weekends_after, fri_after)"
   ]
  },
  {
   "cell_type": "markdown",
   "id": "f89f6c94-a27a-4718-a730-27b398419abe",
   "metadata": {},
   "source": [
    "#### Demand Zone Aggregation, based on Origin"
   ]
  },
  {
   "cell_type": "code",
   "execution_count": null,
   "id": "cd12189c-f121-41e0-8c38-b44f0f712ce1",
   "metadata": {},
   "outputs": [],
   "source": [
    "dims = ['demand_total','demand_dailysumavg']\n",
    "\n",
    "a,b = plot_before_after_az(dims, [gdf_before, gdf_after], 'trips/zone')\n",
    "plt.show()\n",
    "\n",
    "ttest_traveltime = paired_ttest_az(dims, [gdf_before, gdf_after])\n",
    "display(ttest_traveltime)\n",
    "\n",
    "a, b = plot_differences_az(dims, [gdf_before, gdf_after], 'trips/zone')"
   ]
  },
  {
   "cell_type": "markdown",
   "id": "f22daa69-efd0-4bc1-9da8-f1ae2eb9e35b",
   "metadata": {},
   "source": [
    "##### Demand Zone Aggregation, Based on Destination"
   ]
  },
  {
   "cell_type": "code",
   "execution_count": null,
   "id": "30332ed5-9da1-4c2e-a2b6-462b11b747ed",
   "metadata": {},
   "outputs": [],
   "source": [
    "dims = ['demand_total','demand_dailysumavg']\n",
    "\n",
    "a,b = plot_before_after_az(dims, [gdf_before_d, gdf_after_d], 'trips/zone')\n",
    "plt.show()\n",
    "\n",
    "ttest_traveltime = paired_ttest_az(dims, [gdf_before_d, gdf_after_d])\n",
    "display(ttest_traveltime)\n",
    "\n",
    "a, b = plot_differences_az(dims, [gdf_before_d, gdf_after_d], 'trips/zone')"
   ]
  },
  {
   "cell_type": "markdown",
   "id": "6f36599f-17a1-4294-91a2-5d7e748ba074",
   "metadata": {},
   "source": [
    "### Number of Scooters and Usage Efficiency"
   ]
  },
  {
   "cell_type": "code",
   "execution_count": null,
   "id": "551716bc-1437-41f1-a3e9-fbcb80024af9",
   "metadata": {},
   "outputs": [],
   "source": [
    "total_scoot = pd.concat([df_before.id, df_after.id]).nunique()\n",
    "print('Total distinct scooters in timeframe: ' + str(total_scoot))\n",
    "print('Total number of scooters - before: ' + str(df_before.id.nunique()) + ' (' + str(round((df_before.id.nunique()/total_scoot)*100,2)) + '%)')\n",
    "print('Total number of scooters - after: ' + str(df_after.id.nunique()) + ' (' + str(round((df_after.id.nunique()/total_scoot)*100,2)) + '%)\\n')\n",
    "\n",
    "scootperday = aggregate_and_describe(df_before, df_after, ['isodate'], 'id', lambda x: x.nunique(), \"Scooters per Day\", True, False)\n",
    "scootperhour = aggregate_and_describe(df_before, df_after, ['isodate', 'hour'], 'id', lambda x: x.nunique(), \"Scooters per Hour\", True, False)\n",
    "\n",
    "usetotal = aggregate_and_describe(df_before, df_after, ['id'], 'id', lambda x: x.count(), \"Total Usage Efficiency\", True, False)\n",
    "useperday = aggregate_and_describe(df_before, df_after, ['isodate'], 'id', lambda x: x.count() / x.nunique(), \"Daily Usage Efficiency\", True, False)\n",
    "useperhour = aggregate_and_describe(df_before, df_after, ['isodate', 'hour'], 'id', lambda x: x.count() / x.nunique(), \"Hourly Usage Efficiency\", True, False)\n",
    "\n",
    "display_html(scootperday._repr_html_() + scootperhour._repr_html_() + usetotal._repr_html_() + useperday._repr_html_() + useperhour._repr_html_(), raw=True)"
   ]
  },
  {
   "cell_type": "code",
   "execution_count": null,
   "id": "26b4e85b-d1b7-4a0d-a1b7-7edf90645384",
   "metadata": {},
   "outputs": [],
   "source": [
    "# Plot usage efficiency by combined or distinguished operator\n",
    "plot_scooter_efficiency_histogram(df_before, df_after, [['tier'], ['voi']])\n",
    "plot_scooter_efficiency_histogram(df_before, df_after, [['tier','voi']])"
   ]
  },
  {
   "cell_type": "code",
   "execution_count": null,
   "id": "ed5ba2e5-ab80-4068-86eb-f1790b9b156b",
   "metadata": {},
   "outputs": [],
   "source": [
    "dims=['utilisationrate_avg' , 'nunique_id_dailysumavg']\n",
    "\n",
    "a,b = plot_before_after_az(dims, [gdf_before, gdf_after], 'trips/zone')\n",
    "plt.show()\n",
    "\n",
    "ttest_traveltime = paired_ttest_az(dims, [gdf_before, gdf_after])\n",
    "display(ttest_traveltime)\n",
    "\n",
    "a, b = plot_differences_az(dims, [gdf_before, gdf_after], 'trips/zone')\n",
    "plt.show()"
   ]
  },
  {
   "cell_type": "code",
   "execution_count": null,
   "id": "401df4c6-c9c9-4675-9d0d-8b84322b1217",
   "metadata": {},
   "outputs": [],
   "source": []
  },
  {
   "cell_type": "code",
   "execution_count": null,
   "id": "1c7cbd8b-05b0-42f2-a254-ac4a30a999ba",
   "metadata": {},
   "outputs": [],
   "source": []
  }
 ],
 "metadata": {
  "kernelspec": {
   "display_name": "Python 3 (ipykernel)",
   "language": "python",
   "name": "python3"
  },
  "language_info": {
   "codemirror_mode": {
    "name": "ipython",
    "version": 3
   },
   "file_extension": ".py",
   "mimetype": "text/x-python",
   "name": "python",
   "nbconvert_exporter": "python",
   "pygments_lexer": "ipython3",
   "version": "3.10.13"
  }
 },
 "nbformat": 4,
 "nbformat_minor": 5
}
