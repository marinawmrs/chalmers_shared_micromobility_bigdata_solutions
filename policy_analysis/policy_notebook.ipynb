{
 "cells": [
  {
   "cell_type": "markdown",
   "id": "764e2d59-5240-4f1c-b2ba-b168a264da9a",
   "metadata": {},
   "source": [
    "# Policy Analysis Notebook"
   ]
  },
  {
   "cell_type": "markdown",
   "id": "9ec0a072-1aad-40e5-bb5f-fb26fa35c8a8",
   "metadata": {},
   "source": [
    "The purpose of this notebook is to facilitate the generation of shared micro-mobility policy analysis.\n",
    "It serves as the central hub from which parameters are declared and subsequent functions for data processing, analysis, and visualisation are run from, while keeping the code and \"back-end\" processes hidden and concise."
   ]
  },
  {
   "cell_type": "markdown",
   "id": "e7729b9d-d642-4983-a688-4e4e521a94c2",
   "metadata": {},
   "source": [
    "### Imports"
   ]
  },
  {
   "cell_type": "code",
   "execution_count": null,
   "id": "5b669e12-2931-4b04-8015-8913ec76c0aa",
   "metadata": {},
   "outputs": [],
   "source": [
    "import datetime as dt\n",
    "import scripts.style\n",
    "from scripts.api_smhi_weather import *\n",
    "from scripts.data_processing import *\n",
    "from scripts.data_visualisations import *"
   ]
  },
  {
   "cell_type": "markdown",
   "id": "08581210-8aee-4927-a92d-f4a056d3de25",
   "metadata": {},
   "source": [
    "### Policy Parameters\n",
    "\n",
    "**Path**: path to where the trip data is located, ideally placed in /data, and assumed to be a *CSV file*\n",
    "\n",
    "**City Name**: the place where the policy was implemented\n",
    "\n",
    "**Before Start / End date**: The timeframe of the selected period before the policy introduction (earliest and latest)\n",
    "\n",
    "**After Start / End date**: The timeframe of the selected period after the policy introduction (earliest and latest)\n",
    "\n",
    "**City Coordinates**: The area to which to restrict the policy analysis to, in the following order: North, South, East, West.\n",
    "Used for data cleaning (i.e. set to broad perimeter if data is already cleaned of spatial outliers), e.g. from previous datasets:\n",
    "* STH - 59.39, 59.28, 18.18, 17.94;\n",
    "* GBG - 57.74, 57.67, 12.02, 11.90"
   ]
  },
  {
   "cell_type": "code",
   "execution_count": null,
   "id": "133112aa-06b1-4ddf-8984-759219601e3b",
   "metadata": {},
   "outputs": [],
   "source": [
    "data_path = 'data/data_raw.csv'\n",
    "city_name = 'Stockholm'\n",
    "\n",
    "before_start_date = dt.date(2022, 8, 5)\n",
    "before_end_date = dt.date(2022, 8, 27)\n",
    "\n",
    "after_start_date = dt.date(2022, 9, 15)\n",
    "after_end_date = dt.date(2022, 9, 30)\n",
    "\n",
    "city_coordinates = (59.39, 59.28, 18.18, 17.94)"
   ]
  },
  {
   "cell_type": "markdown",
   "id": "1d0fc328-c241-4e46-8a33-a687ba2e9d94",
   "metadata": {},
   "source": [
    "### Preprocessing\n",
    "\n",
    "The data is read and parsed according to the methods in `scripts/data_processing`. A brief visualisation of the distribution over days, weekdays and operators follows as a sanity check."
   ]
  },
  {
   "cell_type": "code",
   "execution_count": null,
   "id": "c2e7dfd0-ac6d-4bd8-a14b-44d9ae6f2e41",
   "metadata": {},
   "outputs": [],
   "source": [
    "df = pd.read_csv(data_path)\n",
    "df = parse_data(df)\n",
    "df = clean_data(df, city_coordinates)"
   ]
  },
  {
   "cell_type": "code",
   "execution_count": null,
   "id": "c5bdb802-808d-4eff-a61e-fff4296355f5",
   "metadata": {},
   "outputs": [],
   "source": [
    "vis_dataset_overview(df, before_start_date, after_end_date)"
   ]
  },
  {
   "cell_type": "code",
   "execution_count": null,
   "id": "9746694d-cefe-4ec4-831c-ef3b9175615f",
   "metadata": {},
   "outputs": [],
   "source": [
    "# counts number of hours per day where no data was recorded, visualisation follows later\n",
    "df_missing = missing_data_hours(df, before_start_date, before_end_date, after_start_date, after_end_date)"
   ]
  },
  {
   "cell_type": "markdown",
   "id": "796885f9-4710-44fb-b18e-1455bd2fa976",
   "metadata": {},
   "source": [
    "### Weather Parameters\n",
    "\n",
    "In order to filter out any potential effects of the weather on usage behaviour, such as intense rain-/snowfall or very low temperatures, weather data from [SMHI](https://www.smhi.se/data/meteorologi/ladda-ner-meteorologiska-observationer/#param=airTemperatureMinAndMaxOnceEveryDay,stations=active) is fetched.\n",
    "\n",
    "Currently, the parameters are minimum and maximum temperature, as well as daily precipitation in mm. More information can be found on SMHI's website. The cells below aid in selecting a weather station that records all three parameters, and is within a radius of 30km of the dataset's geographic midpoint.e"
   ]
  },
  {
   "cell_type": "code",
   "execution_count": null,
   "id": "9fd0bca0-da1f-437c-af1e-9691fc133997",
   "metadata": {},
   "outputs": [],
   "source": [
    "# Min temperature, max temperature, and precipitation in mm (daily sum)\n",
    "params = [19, 20, 5]\n",
    "data_mid_lat = df.o_lat.mean()\n",
    "data_mid_lon = df.o_lng.mean()\n",
    "\n",
    "weather_stations = get_available_stations(params, data_mid_lat, data_mid_lon)\n",
    "map_stations(weather_stations, data_mid_lat, data_mid_lon)"
   ]
  },
  {
   "cell_type": "markdown",
   "id": "cbd3c68c-e79f-4006-8228-c2b3e79a0db9",
   "metadata": {},
   "source": [
    "##### Select a weather station from the plot above and declare its ID (hover to retrieve) in the cell below:"
   ]
  },
  {
   "cell_type": "code",
   "execution_count": null,
   "id": "029e8a04-ca41-45e7-9b58-d7a21dbc9b9d",
   "metadata": {},
   "outputs": [],
   "source": [
    "station_key = 98230 #change ID to desired station\n",
    "df_weather = fetch_weather_data(station_key, params, before_start_date, after_end_date)"
   ]
  },
  {
   "cell_type": "code",
   "execution_count": null,
   "id": "3f356ac3-e9c8-4386-89e0-3839661d34db",
   "metadata": {},
   "outputs": [],
   "source": [
    "plot_weather(df_weather, df_missing, city_name)"
   ]
  },
  {
   "cell_type": "markdown",
   "id": "df8c0287-8cef-4732-a9d0-decc719f9ddd",
   "metadata": {},
   "source": [
    "### Data Selection\n",
    "\n",
    "The above plot shows the weatherconditions during the timeframe as well as number of hours during which no data/trips have been recorded (e.g. due to system outage), such that such outlier days can be filtered out. Additionally, the dataset is split into before and after, and additional columns are being computed.\n",
    "\n",
    "##### Select in the cell below which days should not be included in the dataset, based on weather conditions and missing data throughout the day:"
   ]
  },
  {
   "cell_type": "code",
   "execution_count": null,
   "id": "3a310308-681e-4318-9533-820bcc0fc289",
   "metadata": {},
   "outputs": [],
   "source": [
    "# dataset is split into before and after\n",
    "df_before = df[(df.isodate >= pd.to_datetime(before_start_date)) & (df.isodate <= pd.to_datetime(before_end_date))]\n",
    "df_after = df[(df.isodate >= pd.to_datetime(after_start_date)) & (df.isodate <= pd.to_datetime(after_end_date))]"
   ]
  },
  {
   "cell_type": "code",
   "execution_count": null,
   "id": "34f02693-6a9b-45a6-867f-650f96b4c2ca",
   "metadata": {},
   "outputs": [],
   "source": [
    "# update days which should be filtered out\n",
    "df_before = df_before[~df_before.Date.isin([5, 12, 14, 20, 25, 28])]\n",
    "df_after = df_after[~df_after.Date.isin([16, 17, 18, 19, 20, 21, 22, 26, 30])]"
   ]
  },
  {
   "cell_type": "code",
   "execution_count": null,
   "id": "f01298ed-baa5-4d3e-a110-b5a5431e17c7",
   "metadata": {},
   "outputs": [],
   "source": []
  }
 ],
 "metadata": {
  "kernelspec": {
   "display_name": "Python 3 (ipykernel)",
   "language": "python",
   "name": "python3"
  },
  "language_info": {
   "codemirror_mode": {
    "name": "ipython",
    "version": 3
   },
   "file_extension": ".py",
   "mimetype": "text/x-python",
   "name": "python",
   "nbconvert_exporter": "python",
   "pygments_lexer": "ipython3",
   "version": "3.10.13"
  }
 },
 "nbformat": 4,
 "nbformat_minor": 5
}
